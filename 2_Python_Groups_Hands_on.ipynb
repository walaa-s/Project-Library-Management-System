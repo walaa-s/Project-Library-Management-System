{
  "cells": [
    {
      "cell_type": "markdown",
      "metadata": {
        "id": "kZXiW0-J0-2x"
      },
      "source": [
        "# Python_Groups_Hands-on\n"
      ]
    },
    {
      "cell_type": "markdown",
      "metadata": {
        "id": "I05A6_S80-2y"
      },
      "source": [
        "## Project: Library Management System\n",
        "### Description:\n",
        "- Develop a basic Library Management System (LMS) that allows users to manage book records, including adding, updating, deleting, and displaying book information. The system should also provide basic statistical analysis.\n",
        "\n",
        "### System requirements:\n",
        "\n",
        "#### Data Structure Design:\n",
        "\n",
        "  - Define data structures using lists, tuples, dictionaries, and sets to store book information (e.g., book ID, title, author, year, genres).\n",
        "\n",
        "#### Basic Operations:\n",
        "\n",
        "- Implement functions to add, update, delete, and display book records.\n",
        "- Ensure proper type conversion and validation of inputs.\n",
        "\n",
        "#### Statistical Analysis:\n",
        "\n",
        "- Write functions to calculate and display the total number of books, the average publication year, and the most common genre.\n",
        "- Use list comprehensions and built-in functions (sort, len, zip, range) for calculations.\n",
        "\n",
        "#### Advanced Features:\n",
        "\n",
        "- Implement search functionality to find books by title or author using lambda functions.\n",
        "- Provide sorting options for book records based on different criteria (e.g., title, year).\n",
        "\n",
        "\n",
        "#### Exception Handling:\n",
        "\n",
        "- Handle potential errors (e.g., invalid input) using try-except blocks."
      ]
    },
    {
      "cell_type": "markdown",
      "metadata": {
        "id": "rXuH9y0_D76o"
      },
      "source": [
        "#### Q1: Using the following table, create a function to add these books to your library:\n",
        "- **Note**: Create the data structure first\n",
        "\n",
        "\n",
        "\n",
        "| Book ID | Title                            | Author               | Year | Genres                              |\n",
        "|---------|----------------------------------|----------------------|------|-------------------------------------|\n",
        "| 1       | Harry Potter and the Sorcerer's Stone | J.K. Rowling         | 1997 | Fantasy, Young Adult                |\n",
        "| 2       | To Kill a Mockingbird             | Harper Lee           | 1960 | Fiction, Classics                   |\n",
        "| 3       | The Great Gatsby                  | F. Scott Fitzgerald  | 1925 | Fiction, Classics                   |\n",
        "| 4       | 1984                              | George Orwell        | 1949 | Fiction, Dystopian                  |\n",
        "| 5       | The Catcher in the Rye            | J.D. Salinger        | 1951 | Fiction, Classics                   |\n",
        "| 6       | Pride and Prejudice               | Jane Austen          | 1813 | Fiction, Romance, Classics          |\n",
        "| 7       | The Hobbit                        | J.R.R. Tolkien       | 1937 | Fantasy, Adventure                  |\n",
        "| 8       | The Hunger Games                  | Suzanne Collins      | 2008 | Science Fiction, Dystopian, Young Adult |\n",
        "| 9       | The Da Vinci Code                 | Dan Brown            | 2003 | Mystery, Thriller                   |\n",
        "| 10      | The Chronicles of Narnia          | C.S. Lewis           | 1950 | Fantasy, Children's Literature      |\n",
        "| 11      | Gone with the Wind                | Margaret Mitchell    | 1936 | Historical Fiction, Romance         |\n",
        "| 12      | Sapiens: A Brief History of Humankind | Yuval Noah Harari   | 2011 | Nonfiction, History, Science        |\n",
        "| 13      | The Road                          | Cormac McCarthy      | 2006 | Fiction, Post-Apocalyptic           |\n",
        "| 14      | The Girl with the Dragon Tattoo   | Stieg Larsson        | 2005 | Mystery, Thriller                   |\n",
        "| 15      | The Alchemist                     | Paulo Coelho         | 1988 | Fiction, Inspirational              |\n"
      ]
    },
    {
      "cell_type": "code",
      "source": [
        "from collections import Counter\n",
        "#استوردنا الكلاس كاونتر من الموديول كولكشنز لان ذا الكلاس يحسب لنا كم مره تكرر شي داخل ديكشنري او ليست مثلا يحسب لنا تكرار الكوميدي في الجينرز"
      ],
      "metadata": {
        "id": "Sdt9A9IjZueC"
      },
      "execution_count": null,
      "outputs": []
    },
    {
      "cell_type": "markdown",
      "source": [],
      "metadata": {
        "id": "3_D-QU_g57n5"
      }
    },
    {
      "cell_type": "code",
      "source": [
        "books = {}#عرفنا متغير حطينا فيه ديكشنري جديد فاضي"
      ],
      "metadata": {
        "id": "1nj07amsTA1_"
      },
      "execution_count": null,
      "outputs": []
    },
    {
      "cell_type": "code",
      "execution_count": null,
      "metadata": {
        "id": "BzV_B_g20-2z"
      },
      "outputs": [],
      "source": [
        "def add_book(book_id, title, author, year, genres):#عرفنا داله اسمها اد بوك تضيف كتب جديده عن طريق اخذ باراميتيرز لها ك البوك اي دي والتايتل والاوثر واليير والنوع اللي هو جينرز\n",
        "    books[book_id] = {#نفس المتغير اللي فيه ديكشنري حطي\n",
        "        \"title\": title,\n",
        "        \"author\": author,\n",
        "        \"year\": year,\n",
        "        \"genres\": genres\n",
        "    }\n",
        "\n",
        "def load_sample_books():\n",
        "    sample = [\n",
        "        (1,  \"Harry Potter and the Sorcerer's Stone\",     \"J.K. Rowling\",           1997, [\"Fantasy\",\"Young Adult\"]),\n",
        "        (2,  \"To Kill a Mockingbird\",                    \"Harper Lee\",             1960, [\"Fiction\",\"Classics\"]),\n",
        "        (3,  \"The Great Gatsby\",                         \"F. Scott Fitzgerald\",    1925, [\"Fiction\",\"Classics\"]),\n",
        "        (4,  \"1984\",                                      \"George Orwell\",         1949, [\"Fiction\",\"Dystopian\"]),\n",
        "        (5,  \"The Catcher in the Rye\",                   \"J.D. Salinger\",         1951, [\"Fiction\",\"Classics\"]),\n",
        "        (6,  \"Pride and Prejudice\",                      \"Jane Austen\",           1813, [\"Fiction\",\"Romance\",\"Classics\"]),\n",
        "        (7,  \"The Hobbit\",                               \"J.R.R. Tolkien\",        1937, [\"Fantasy\",\"Adventure\"]),\n",
        "        (8,  \"The Hunger Games\",                         \"Suzanne Collins\",       2008, [\"Science Fiction\",\"Dystopian\",\"Young Adult\"]),\n",
        "        (9,  \"The Da Vinci Code\",                        \"Dan Brown\",             2003, [\"Mystery\",\"Thriller\"]),\n",
        "        (10, \"The Chronicles of Narnia\",                 \"C.S. Lewis\",            1950, [\"Fantasy\",\"Children's Literature\"]),\n",
        "        (11, \"Gone with the Wind\",                       \"Margaret Mitchell\",     1936, [\"Historical Fiction\",\"Romance\"]),\n",
        "        (12, \"Sapiens: A Brief History of Humankind\",    \"Yuval Noah Harari\",     2011, [\"Nonfiction\",\"History\",\"Science\"]),\n",
        "        (13, \"The Road\",                                 \"Cormac McCarthy\",       2006, [\"Fiction\",\"Post-Apocalyptic\"]),\n",
        "        (14, \"The Girl with the Dragon Tattoo\",          \"Stieg Larsson\",         2005, [\"Mystery\",\"Thriller\"]),\n",
        "        (15, \"The Alchemist\",                            \"Paulo Coelho\",          1988, [\"Fiction\",\"Inspirational\"])\n",
        "    ]\n",
        "    for b in sample:\n",
        "        add_book(*b)\n",
        "\n",
        "load_sample_books()"
      ]
    },
    {
      "cell_type": "markdown",
      "metadata": {
        "id": "kR5bvgOsF3oJ"
      },
      "source": [
        "#### Q2: Create a function that updates books exsisted in your library and test it.\n",
        "- **Note**: If the user entered wrong book ID it should print \"Book with ID 'num' does not exist."
      ]
    },
    {
      "cell_type": "code",
      "execution_count": null,
      "metadata": {
        "id": "U60cFkbUUYmj",
        "colab": {
          "base_uri": "https://localhost:8080/"
        },
        "outputId": "7f6ec1bc-2ec5-4eff-b321-e24c5bffcbdd"
      },
      "outputs": [
        {
          "output_type": "stream",
          "name": "stdout",
          "text": [
            "Update: 1\n",
            "{1: {'title': 'New Title', 'author': 'J.K. Rowling', 'year': 1997, 'genres': ['Fantasy', 'Young Adult']}, 2: {'title': 'To Kill a Mockingbird', 'author': 'Harper Lee', 'year': 1960, 'genres': ['Fiction', 'Classics']}, 3: {'title': 'The Great Gatsby', 'author': 'F. Scott Fitzgerald', 'year': 1925, 'genres': ['Fiction', 'Classics']}, 4: {'title': '1984', 'author': 'George Orwell', 'year': 1949, 'genres': ['Fiction', 'Action']}, 5: {'title': 'The Catcher in the Rye', 'author': 'J.D. Salinger', 'year': 1951, 'genres': ['Fiction', 'Classics']}, 6: {'title': 'Pride and Prejudice', 'author': 'Jane Austen', 'year': 1813, 'genres': ['Fiction', 'Romance', 'Classics']}, 7: {'title': 'The Hobbit', 'author': 'J.R.R. Tolkien', 'year': 1937, 'genres': ['Fantasy', 'Adventure']}, 8: {'title': 'The Hunger Games', 'author': 'Suzanne Collins', 'year': 2008, 'genres': ['Science Fiction', 'Action', 'Young Adult']}, 9: {'title': 'The Da Vinci Code', 'author': 'Dan Brown', 'year': 2003, 'genres': ['Mystery', 'Thriller']}, 10: {'title': 'The Chronicles of Narnia', 'author': 'C.S. Lewis', 'year': 1950, 'genres': ['Fantasy', \"Children's Literature\"]}, 11: {'title': 'Gone with the Wind', 'author': 'Margaret Mitchell', 'year': 1936, 'genres': ['Historical Fiction', 'Romance']}, 12: {'title': 'Sapiens: A Brief History of Humankind', 'author': 'Yuval Noah Harari', 'year': 2011, 'genres': ['Nonfiction', 'History', 'Science']}, 13: {'title': 'The Road', 'author': 'Cormac McCarthy', 'year': 2006, 'genres': ['Fiction', 'Post-Apocalyptic']}, 14: {'title': 'The Girl with the Dragon Tattoo', 'author': 'Stieg Larsson', 'year': 2005, 'genres': ['Mystery', 'Thriller']}, 15: {'title': 'The Alchemist', 'author': 'Paulo Coelho', 'year': 1988, 'genres': ['Fiction', 'Inspirational']}}\n"
          ]
        }
      ],
      "source": [
        "def update_book(book_id, **fields):\n",
        "    if book_id in books:\n",
        "        books[book_id].update(fields)\n",
        "        print(\"Update:\", book_id)\n",
        "    else:\n",
        "        print(f\"Book with ID {book_id} does not exist.\")\n",
        "\n",
        "update_book(1, title=\"New Title\")\n",
        "print(books)"
      ]
    },
    {
      "cell_type": "markdown",
      "metadata": {
        "id": "ME3j_m-eLhyH"
      },
      "source": [
        "#### Q3: Create a function to delete books from your library and test it."
      ]
    },
    {
      "cell_type": "code",
      "execution_count": null,
      "metadata": {
        "id": "JlGIx-gJUadK",
        "colab": {
          "base_uri": "https://localhost:8080/"
        },
        "outputId": "1e1534a9-a794-453a-cb09-02e5c9acc1ac"
      },
      "outputs": [
        {
          "output_type": "stream",
          "name": "stdout",
          "text": [
            "Book with ID 15 does not exist.\n",
            "{1: {'title': 'New Title', 'author': 'J.K. Rowling', 'year': 1997, 'genres': ['Fantasy', 'Young Adult']}, 2: {'title': 'To Kill a Mockingbird', 'author': 'Harper Lee', 'year': 1960, 'genres': ['Fiction', 'Classics']}, 3: {'title': 'The Great Gatsby', 'author': 'F. Scott Fitzgerald', 'year': 1925, 'genres': ['Fiction', 'Classics']}, 4: {'title': '1984', 'author': 'George Orwell', 'year': 1949, 'genres': ['Fiction', 'Action']}, 5: {'title': 'The Catcher in the Rye', 'author': 'J.D. Salinger', 'year': 1951, 'genres': ['Fiction', 'Classics']}, 6: {'title': 'Pride and Prejudice', 'author': 'Jane Austen', 'year': 1813, 'genres': ['Fiction', 'Romance', 'Classics']}, 7: {'title': 'The Hobbit', 'author': 'J.R.R. Tolkien', 'year': 1937, 'genres': ['Fantasy', 'Adventure']}, 8: {'title': 'The Hunger Games', 'author': 'Suzanne Collins', 'year': 2008, 'genres': ['Science Fiction', 'Action', 'Young Adult']}, 9: {'title': 'The Da Vinci Code', 'author': 'Dan Brown', 'year': 2003, 'genres': ['Mystery', 'Thriller']}, 10: {'title': 'The Chronicles of Narnia', 'author': 'C.S. Lewis', 'year': 1950, 'genres': ['Fantasy', \"Children's Literature\"]}, 11: {'title': 'Gone with the Wind', 'author': 'Margaret Mitchell', 'year': 1936, 'genres': ['Historical Fiction', 'Romance']}, 12: {'title': 'Sapiens: A Brief History of Humankind', 'author': 'Yuval Noah Harari', 'year': 2011, 'genres': ['Nonfiction', 'History', 'Science']}, 13: {'title': 'The Road', 'author': 'Cormac McCarthy', 'year': 2006, 'genres': ['Fiction', 'Post-Apocalyptic']}, 14: {'title': 'The Girl with the Dragon Tattoo', 'author': 'Stieg Larsson', 'year': 2005, 'genres': ['Mystery', 'Thriller']}}\n"
          ]
        }
      ],
      "source": [
        "def delete_book(book_id):\n",
        "    if book_id in books:\n",
        "        del books[book_id]\n",
        "        print(\"Deleted:\", book_id)\n",
        "    else:\n",
        "        print(f\"Book with ID {book_id} does not exist.\")\n",
        "\n",
        "delete_book(15)\n",
        "print(books)"
      ]
    },
    {
      "cell_type": "markdown",
      "metadata": {
        "id": "OvfdKdBqNt22"
      },
      "source": [
        "#### Q4: Create functions to do the following: calculates and display the total number of books, the average publication year, and the most common genre. and test it."
      ]
    },
    {
      "cell_type": "code",
      "execution_count": null,
      "metadata": {
        "id": "mWg5eHIWUcsU",
        "colab": {
          "base_uri": "https://localhost:8080/"
        },
        "outputId": "2adbd389-7b23-4c34-dc3b-f7d442de4f25"
      },
      "outputs": [
        {
          "output_type": "stream",
          "name": "stdout",
          "text": [
            "Total books: 15\n",
            "Average year: 1962\n",
            " Top genre: Fiction\n"
          ]
        }
      ],
      "source": [
        "from collections import Counter\n",
        "\n",
        "def total_books():\n",
        "    print(\"Total books:\", len(books))\n",
        "\n",
        "def average_year():\n",
        "    yrs = [b[\"year\"] for b in books.values()]\n",
        "    print(\"Average year:\", sum(yrs)//len(yrs))\n",
        "\n",
        "def most_common_genre():\n",
        "    cnt = Counter(g for b in books.values() for g in b[\"genres\"])\n",
        "    genre, _ = cnt.most_common(1)[0]\n",
        "    print(\" Top genre:\", genre)\n",
        "\n",
        "total_books()\n",
        "average_year()\n",
        "most_common_genre()"
      ]
    },
    {
      "cell_type": "markdown",
      "metadata": {
        "id": "IuVLtf7dQaUW"
      },
      "source": [
        "#### Q5: Create 2 functions to search for books by the title and the author from your library and test it."
      ]
    },
    {
      "cell_type": "code",
      "execution_count": null,
      "metadata": {
        "id": "7LnwRJLCUe3p",
        "colab": {
          "base_uri": "https://localhost:8080/"
        },
        "outputId": "05aff95e-d7ba-4d6f-990d-6f76be2c5ccf"
      },
      "outputs": [
        {
          "output_type": "stream",
          "name": "stdout",
          "text": [
            "Search title ‘the’: [{'title': \"Harry Potter and the Sorcerer's Stone\", 'author': 'J.K. Rowling', 'year': 1997, 'genres': ['Fantasy', 'Young Adult']}, {'title': 'The Great Gatsby', 'author': 'F. Scott Fitzgerald', 'year': 1925, 'genres': ['Fiction', 'Classics']}, {'title': 'The Catcher in the Rye', 'author': 'J.D. Salinger', 'year': 1951, 'genres': ['Fiction', 'Classics']}, {'title': 'The Hobbit', 'author': 'J.R.R. Tolkien', 'year': 1937, 'genres': ['Fantasy', 'Adventure']}, {'title': 'The Hunger Games', 'author': 'Suzanne Collins', 'year': 2008, 'genres': ['Science Fiction', 'Dystopian', 'Young Adult']}, {'title': 'The Da Vinci Code', 'author': 'Dan Brown', 'year': 2003, 'genres': ['Mystery', 'Thriller']}, {'title': 'The Chronicles of Narnia', 'author': 'C.S. Lewis', 'year': 1950, 'genres': ['Fantasy', \"Children's Literature\"]}, {'title': 'Gone with the Wind', 'author': 'Margaret Mitchell', 'year': 1936, 'genres': ['Historical Fiction', 'Romance']}, {'title': 'The Road', 'author': 'Cormac McCarthy', 'year': 2006, 'genres': ['Fiction', 'Post-Apocalyptic']}, {'title': 'The Girl with the Dragon Tattoo', 'author': 'Stieg Larsson', 'year': 2005, 'genres': ['Mystery', 'Thriller']}]\n",
            "Search author ‘lee’: [{'title': 'To Kill a Mockingbird', 'author': 'Harper Lee', 'year': 1960, 'genres': ['Fiction', 'Classics']}]\n"
          ]
        }
      ],
      "source": [
        "find_by_title  = lambda kw: [b for b in books.values() if kw.lower() in b[\"title\"].lower()]\n",
        "find_by_author = lambda kw: [b for b in books.values() if kw.lower() in b[\"author\"].lower()]\n",
        "\n",
        "print(\"Search title ‘the’:\", find_by_title(\"the\"))\n",
        "print(\"Search author ‘lee’:\", find_by_author(\"lee\"))"
      ]
    },
    {
      "cell_type": "markdown",
      "metadata": {
        "id": "fAu2ozKBQzJu"
      },
      "source": [
        "#### Q6: Create 2 functions to sort the books by the title and the year from your library and test it."
      ]
    },
    {
      "cell_type": "code",
      "execution_count": null,
      "metadata": {
        "id": "X4PyuHTMUgHl",
        "colab": {
          "base_uri": "https://localhost:8080/"
        },
        "outputId": "f4db9b46-468b-4cfb-e134-8e7bae32ee70"
      },
      "outputs": [
        {
          "output_type": "stream",
          "name": "stdout",
          "text": [
            "by title: [{'title': '1984', 'author': 'George Orwell', 'year': 1949, 'genres': ['Fiction', 'Dystopian']}, {'title': 'Gone with the Wind', 'author': 'Margaret Mitchell', 'year': 1936, 'genres': ['Historical Fiction', 'Romance']}, {'title': \"Harry Potter and the Sorcerer's Stone\", 'author': 'J.K. Rowling', 'year': 1997, 'genres': ['Fantasy', 'Young Adult']}, {'title': 'New Title', 'author': 'Yuval Noah Harari', 'year': 2011, 'genres': ['Nonfiction', 'History', 'Science']}, {'title': 'Pride and Prejudice', 'author': 'Jane Austen', 'year': 1813, 'genres': ['Fiction', 'Romance', 'Classics']}, {'title': 'The Catcher in the Rye', 'author': 'J.D. Salinger', 'year': 1951, 'genres': ['Fiction', 'Classics']}, {'title': 'The Chronicles of Narnia', 'author': 'C.S. Lewis', 'year': 1950, 'genres': ['Fantasy', \"Children's Literature\"]}, {'title': 'The Da Vinci Code', 'author': 'Dan Brown', 'year': 2003, 'genres': ['Mystery', 'Thriller']}, {'title': 'The Girl with the Dragon Tattoo', 'author': 'Stieg Larsson', 'year': 2005, 'genres': ['Mystery', 'Thriller']}, {'title': 'The Great Gatsby', 'author': 'F. Scott Fitzgerald', 'year': 1925, 'genres': ['Fiction', 'Classics']}, {'title': 'The Hobbit', 'author': 'J.R.R. Tolkien', 'year': 1937, 'genres': ['Fantasy', 'Adventure']}, {'title': 'The Hunger Games', 'author': 'Suzanne Collins', 'year': 2008, 'genres': ['Science Fiction', 'Dystopian', 'Young Adult']}, {'title': 'The Road', 'author': 'Cormac McCarthy', 'year': 2006, 'genres': ['Fiction', 'Post-Apocalyptic']}, {'title': 'To Kill a Mockingbird', 'author': 'Harper Lee', 'year': 1960, 'genres': ['Fiction', 'Classics']}]\n",
            "by year: [{'title': 'Pride and Prejudice', 'author': 'Jane Austen', 'year': 1813, 'genres': ['Fiction', 'Romance', 'Classics']}, {'title': 'The Great Gatsby', 'author': 'F. Scott Fitzgerald', 'year': 1925, 'genres': ['Fiction', 'Classics']}, {'title': 'Gone with the Wind', 'author': 'Margaret Mitchell', 'year': 1936, 'genres': ['Historical Fiction', 'Romance']}, {'title': 'The Hobbit', 'author': 'J.R.R. Tolkien', 'year': 1937, 'genres': ['Fantasy', 'Adventure']}, {'title': '1984', 'author': 'George Orwell', 'year': 1949, 'genres': ['Fiction', 'Dystopian']}, {'title': 'The Chronicles of Narnia', 'author': 'C.S. Lewis', 'year': 1950, 'genres': ['Fantasy', \"Children's Literature\"]}, {'title': 'The Catcher in the Rye', 'author': 'J.D. Salinger', 'year': 1951, 'genres': ['Fiction', 'Classics']}, {'title': 'To Kill a Mockingbird', 'author': 'Harper Lee', 'year': 1960, 'genres': ['Fiction', 'Classics']}, {'title': \"Harry Potter and the Sorcerer's Stone\", 'author': 'J.K. Rowling', 'year': 1997, 'genres': ['Fantasy', 'Young Adult']}, {'title': 'The Da Vinci Code', 'author': 'Dan Brown', 'year': 2003, 'genres': ['Mystery', 'Thriller']}, {'title': 'The Girl with the Dragon Tattoo', 'author': 'Stieg Larsson', 'year': 2005, 'genres': ['Mystery', 'Thriller']}, {'title': 'The Road', 'author': 'Cormac McCarthy', 'year': 2006, 'genres': ['Fiction', 'Post-Apocalyptic']}, {'title': 'The Hunger Games', 'author': 'Suzanne Collins', 'year': 2008, 'genres': ['Science Fiction', 'Dystopian', 'Young Adult']}, {'title': 'New Title', 'author': 'Yuval Noah Harari', 'year': 2011, 'genres': ['Nonfiction', 'History', 'Science']}]\n"
          ]
        }
      ],
      "source": [
        "def sort_by_title():\n",
        "    return sorted(books.values(), key=lambda b: b[\"title\"])\n",
        "\n",
        "def sort_by_year():\n",
        "    return sorted(books.values(), key=lambda b: b[\"year\"])\n",
        "\n",
        "print(\"by title:\", sort_by_title())\n",
        "print(\"by year:\",  sort_by_year())"
      ]
    },
    {
      "cell_type": "markdown",
      "metadata": {
        "id": "KiaFO8rdiv4u"
      },
      "source": [
        "#### Q7: Create a function to bulk update genres of books using list comprehension. and test it."
      ]
    },
    {
      "cell_type": "code",
      "execution_count": null,
      "metadata": {
        "id": "AbvXyE96UhVt"
      },
      "outputs": [],
      "source": [
        "def bulk_update_genres(old_genre, new_genre):\n",
        "\n",
        "    for book in books.values():\n",
        "        book[\"genres\"][:] = [\n",
        "            new_genre if g == old_genre else g\n",
        "            for g in book[\"genres\"]\n",
        "        ]\n",
        "\n",
        "books.clear()\n",
        "load_sample_books()\n"
      ]
    },
    {
      "cell_type": "code",
      "source": [
        "print(\"Before:\", [b[\"genres\"] for b in books.values() if \"Dystopian\" in b[\"genres\"]])\n",
        "\n",
        "bulk_update_genres(\"Dystopian\", \"Action\")\n",
        "\n",
        "print(\" After:\", [b[\"genres\"] for b in books.values() if \"Action\" in b[\"genres\"]])\n"
      ],
      "metadata": {
        "colab": {
          "base_uri": "https://localhost:8080/"
        },
        "id": "mWj9wmg4dTup",
        "outputId": "b137a9c0-3453-464d-ef3f-1ec99d57f923"
      },
      "execution_count": null,
      "outputs": [
        {
          "output_type": "stream",
          "name": "stdout",
          "text": [
            "Before: [['Fiction', 'Dystopian'], ['Science Fiction', 'Dystopian', 'Young Adult']]\n",
            " After: [['Fiction', 'Action'], ['Science Fiction', 'Action', 'Young Adult']]\n"
          ]
        }
      ]
    },
    {
      "cell_type": "markdown",
      "metadata": {
        "id": "ZWkmOUNgi6V_"
      },
      "source": [
        "#### Q8: Implement a function to generate a report summarizing the library's statistics, including the total number of books, the number of books by each author, the number of books in each genre, and the oldest and newest books. and test it."
      ]
    },
    {
      "cell_type": "code",
      "execution_count": null,
      "metadata": {
        "id": "Okjlb9pTUloe",
        "colab": {
          "base_uri": "https://localhost:8080/"
        },
        "outputId": "b0861d84-5413-4513-d850-6df274a589e3"
      },
      "outputs": [
        {
          "output_type": "stream",
          "name": "stdout",
          "text": [
            "report\n",
            "Total books: 15\n",
            "By author: {'J.K. Rowling': 1, 'Harper Lee': 1, 'F. Scott Fitzgerald': 1, 'George Orwell': 1, 'J.D. Salinger': 1, 'Jane Austen': 1, 'J.R.R. Tolkien': 1, 'Suzanne Collins': 1, 'Dan Brown': 1, 'C.S. Lewis': 1, 'Margaret Mitchell': 1, 'Yuval Noah Harari': 1, 'Cormac McCarthy': 1, 'Stieg Larsson': 1, 'Paulo Coelho': 1}\n",
            "By genre: {'Fantasy': 3, 'Young Adult': 2, 'Fiction': 7, 'Classics': 4, 'Action': 2, 'Romance': 2, 'Adventure': 1, 'Science Fiction': 1, 'Mystery': 2, 'Thriller': 2, \"Children's Literature\": 1, 'Historical Fiction': 1, 'Nonfiction': 1, 'History': 1, 'Science': 1, 'Post-Apocalyptic': 1, 'Inspirational': 1}\n",
            "Oldest: 1813\n",
            "Newest: 2011\n"
          ]
        }
      ],
      "source": [
        "def generate_report():\n",
        "    total = len(books)\n",
        "    by_author = Counter(b[\"author\"] for b in books.values())\n",
        "    by_genre  = Counter(g for b in books.values() for g in b[\"genres\"])\n",
        "    years     = [b[\"year\"] for b in books.values()]\n",
        "    print(\"report\")\n",
        "    print(\"Total books:\", total)\n",
        "    print(\"By author:\", dict(by_author))\n",
        "    print(\"By genre:\",  dict(by_genre))\n",
        "    print(\"Oldest:\", min(years))\n",
        "    print(\"Newest:\", max(years))\n",
        "\n",
        "generate_report()"
      ]
    },
    {
      "cell_type": "code",
      "source": [],
      "metadata": {
        "id": "KR3uV7fKW4Kl"
      },
      "execution_count": null,
      "outputs": []
    }
  ],
  "metadata": {
    "colab": {
      "provenance": []
    },
    "kernelspec": {
      "display_name": "Python 3",
      "language": "python",
      "name": "python3"
    },
    "language_info": {
      "codemirror_mode": {
        "name": "ipython",
        "version": 3
      },
      "file_extension": ".py",
      "mimetype": "text/x-python",
      "name": "python",
      "nbconvert_exporter": "python",
      "pygments_lexer": "ipython3",
      "version": "3.9.12"
    }
  },
  "nbformat": 4,
  "nbformat_minor": 0
}